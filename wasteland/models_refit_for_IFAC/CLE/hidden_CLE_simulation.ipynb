{
 "cells": [
  {
   "cell_type": "code",
   "execution_count": 1,
   "metadata": {},
   "outputs": [],
   "source": [
    "import numpy as np\n",
    "from numba import njit, prange\n",
    "import time\n",
    "import matplotlib.pyplot as plt\n",
    "\n",
    "@njit\n",
    "def simulate_CLE(C_u0, n_hidden, V_injection, params_rho, params_psi, params_phi, params_alpha, params_delta, params_kappa, params_beta, dt, sqrt_dt, rand_array, extinction_threshold):\n",
    "    C_u = C_u0\n",
    "    C_i = 0.0\n",
    "    C_is = np.zeros(n_hidden, dtype=np.float64)\n",
    "    dC_is = np.zeros(n_hidden, dtype=np.float64)\n",
    "    C_l = 0.0\n",
    "    V = 0.0\n",
    "    \n",
    "    N_steps = rand_array.shape[0]\n",
    "    injection_step = int(1./dt)\n",
    "\n",
    "    for step in range(N_steps):\n",
    "\n",
    "        sum_C = C_u + C_i + C_is.sum() + C_l\n",
    "\n",
    "        if (sum_C) <= extinction_threshold:\n",
    "            break\n",
    "\n",
    "        if step == injection_step:\n",
    "            V = V_injection\n",
    "\n",
    "        a1_ = params_rho * (1. - sum_C / params_kappa)\n",
    "        a2 = params_psi * V * C_u\n",
    "        a3 = params_phi * C_i\n",
    "        a4s = params_phi * C_is\n",
    "        a5 = params_alpha * C_l\n",
    "        a6 = params_delta * V\n",
    "\n",
    "        a2_w2 = np.sqrt(a2) * sqrt_dt * rand_array[step, 1]\n",
    "        a3_w3 = np.sqrt(a3) * sqrt_dt * rand_array[step, 2]\n",
    "\n",
    "        dC_u = (a1_ * C_u - a2) * dt + np.sqrt(np.maximum(a1_ * C_u, 0)) * sqrt_dt * rand_array[step, 0] - a2_w2\n",
    "        dC_i = (a1_ * C_i + a2 - a3) * dt + np.sqrt(np.maximum(a1_ * C_i, 0)) * sqrt_dt * rand_array[step, 0] + a2_w2 - a3_w3\n",
    "        for i in range(n_hidden):\n",
    "            if i == 0:\n",
    "                dC_is[i] = (a1_ * C_is[i] + a3 - a4s[i]) * dt + np.sqrt(np.maximum(a1_ * C_is[i], 0)) * sqrt_dt * rand_array[step, 0] \\\n",
    "                    + a3_w3 - np.sqrt(a4s[i]) * sqrt_dt * rand_array[step, 3+i]\n",
    "            else:\n",
    "                dC_is[i] = (a1_ * C_is[i] + a4s[i-1] - a4s[i]) * dt + np.sqrt(np.maximum(a1_ * C_is[i], 0)) * sqrt_dt * rand_array[step, 0] \\\n",
    "                    + np.sqrt(a4s[i-1]) * sqrt_dt * rand_array[step, 3+i-1] - np.sqrt(a4s[i]) * sqrt_dt * rand_array[step, 3+i]\n",
    "        dC_l = (a1_ * C_l + a4s[-1] - a5) * dt + np.sqrt(np.maximum(a1_ * C_l, 0)) * sqrt_dt * rand_array[step, 0] \\\n",
    "            + np.sqrt(a4s[-1]) * sqrt_dt * rand_array[step, 3+n_hidden-1] - np.sqrt(a5) * sqrt_dt * rand_array[step, 3+n_hidden]\n",
    "        dV = (params_beta * a5 - a2 - a6) * dt + np.sqrt(params_beta * a5) * sqrt_dt * rand_array[step, 3+n_hidden] \\\n",
    "            - a2_w2 - np.sqrt(a6) * sqrt_dt * rand_array[step, 4+n_hidden]\n",
    "\n",
    "        C_u = np.maximum(C_u + dC_u, 0)\n",
    "        C_i = np.maximum(C_i + dC_i, 0)\n",
    "        for i in range(n_hidden):\n",
    "            C_is[i] = np.maximum(C_is[i] + dC_is[i], 0)\n",
    "        C_l = np.maximum(C_l + dC_l, 0)\n",
    "        V = np.maximum(V + dV, 0)\n",
    "\n",
    "    final_time = step * dt\n",
    "\n",
    "    return np.array([C_u, C_i, *C_is, C_l, V, final_time])\n",
    "\n",
    "def run_simulation(N_simulations, C_u0, n_hidden, V_injection, params, dt, T, extinction_threshold, seed = 42):\n",
    "\n",
    "    sqrt_dt = np.sqrt(dt)\n",
    "\n",
    "    # pre-calculate the random numbers\n",
    "    np.random.seed(seed)\n",
    "    random_numbers = np.random.normal(size=(N_simulations, int(T/dt), n_hidden+5))\n",
    "\n",
    "    results = np.zeros((N_simulations, n_hidden+5))\n",
    "    \n",
    "    start_run = time.time()\n",
    "    checkpoints = [N_simulations // 2]\n",
    "    for i in range(N_simulations):\n",
    "        results[i] = simulate_CLE(C_u0, n_hidden, V_injection, params['rho'], params['psi'], params['phi'], params['alpha'], params['delta'], params['kappa'], params['beta'], dt, sqrt_dt, random_numbers[i], extinction_threshold)\n",
    "\n",
    "        # Check if we've reached the 50% checkpoint\n",
    "        if i+1 in checkpoints:\n",
    "            elapsed_time = time.time() - start_run\n",
    "            percent_complete = ((i+1) / N_simulations) * 100\n",
    "            estimated_total_time = (elapsed_time / (i+1)) * N_simulations\n",
    "            time_remaining = estimated_total_time - elapsed_time\n",
    "            print(f\"{percent_complete:.0f}% complete. Estimated time remaining: {time_remaining:.2f} seconds.\")\n",
    "\n",
    "    return results"
   ]
  },
  {
   "cell_type": "markdown",
   "metadata": {},
   "source": [
    "# Test the simulation with optimal parameters"
   ]
  },
  {
   "cell_type": "code",
   "execution_count": 15,
   "metadata": {},
   "outputs": [],
   "source": [
    "params_og = {'rho': 0.5778525462995705,\n",
    "'kappa': 772.7473978753562,\n",
    "'psi': 0.0001000147678614947,\n",
    "'phi': 3.6546551247446124,\n",
    "'beta': 1864.3310577533284,\n",
    "'alpha': 1.0894545550320296,\n",
    "'delta': 12.14514283598}"
   ]
  },
  {
   "cell_type": "code",
   "execution_count": 16,
   "metadata": {},
   "outputs": [],
   "source": [
    "N_simulations = 1000\n",
    "C_u0 = 400\n",
    "n_hidden = 5\n",
    "V_injection = 3e9\n",
    "dt = 0.001\n",
    "T = 100\n",
    "\n",
    "extinction_threshold = 1e-6"
   ]
  },
  {
   "cell_type": "code",
   "execution_count": null,
   "metadata": {},
   "outputs": [],
   "source": [
    "results = run_simulation(N_simulations, C_u0, 5, V_injection, params_og, dt, T, extinction_threshold)"
   ]
  },
  {
   "cell_type": "markdown",
   "metadata": {},
   "source": [
    "# Sensitivity analysis for extinction schenarios, virus related"
   ]
  },
  {
   "cell_type": "code",
   "execution_count": 18,
   "metadata": {},
   "outputs": [],
   "source": [
    "def check_extinction_prob(results, extinction_threshold):\n",
    "    return np.sum(results[:,:-1].sum(axis=1) < extinction_threshold) / results.shape[0]\n",
    "\n",
    "def check_extinction_params(param, param_range, extinction_threshold, seed=42):\n",
    "    extinction_probs = np.zeros(len(param_range))\n",
    "    params = params_og.copy()\n",
    "    for i, p in enumerate(param_range):\n",
    "        params[param] = p\n",
    "        results = run_simulation(N_simulations, C_u0, 5, V_injection, params, dt, T, extinction_threshold, seed)\n",
    "        extinction_probs[i] = check_extinction_prob(results, extinction_threshold)\n",
    "\n",
    "        print(f\"Parameter {param} = {p}: calculation complete.\")\n",
    "    return extinction_probs"
   ]
  },
  {
   "cell_type": "code",
   "execution_count": null,
   "metadata": {},
   "outputs": [],
   "source": [
    "# vary infection rate, psi, from 1e-8 to 1e8\n",
    "psi_values = np.logspace(-8, 8, 17)\n",
    "extinction_probs_psi = check_extinction_params('psi', psi_values, extinction_threshold)\n",
    "extinction_probs_psi"
   ]
  },
  {
   "cell_type": "code",
   "execution_count": null,
   "metadata": {},
   "outputs": [],
   "source": []
  },
  {
   "cell_type": "code",
   "execution_count": null,
   "metadata": {},
   "outputs": [],
   "source": [
    "# visualize the probability of extinction as a function of psi\n",
    "plt.plot(psi_values, extinction_probs_psi)\n",
    "plt.xscale('log')\n",
    "plt.xlabel('psi')\n",
    "plt.ylabel('extinction probability')\n",
    "plt.title('Extinction probability as a function of psi')\n",
    "plt.show()"
   ]
  },
  {
   "cell_type": "code",
   "execution_count": null,
   "metadata": {},
   "outputs": [],
   "source": [
    "# vary infection rate, phi, from 1e-8 to 1e8\n",
    "phi_values = np.logspace(-8, 8, 17)\n",
    "extinction_probs_phi = check_extinction_params('phi', phi_values, extinction_threshold)\n",
    "extinction_probs_phi"
   ]
  },
  {
   "cell_type": "code",
   "execution_count": null,
   "metadata": {},
   "outputs": [],
   "source": [
    "# visualize the probability of extinction as a function of phi\n",
    "plt.plot(phi_values, extinction_probs_phi)\n",
    "plt.xscale('log')\n",
    "plt.xlabel('phi')\n",
    "plt.ylabel('extinction probability')\n",
    "plt.title('Extinction probability as a function of phi')\n",
    "plt.show()"
   ]
  },
  {
   "cell_type": "code",
   "execution_count": null,
   "metadata": {},
   "outputs": [],
   "source": [
    "# vary virus production rate, beta, from 1e-8 to 1e8\n",
    "beta_values = np.logspace(-8, 8, 17)\n",
    "extinction_probs_beta = check_extinction_params('beta', beta_values, extinction_threshold)\n",
    "extinction_probs_beta"
   ]
  },
  {
   "cell_type": "code",
   "execution_count": null,
   "metadata": {},
   "outputs": [],
   "source": [
    "# visualize the probability of extinction as a function of beta\n",
    "plt.plot(beta_values, extinction_probs_beta)\n",
    "plt.xscale('log')\n",
    "plt.xlabel('beta')\n",
    "plt.ylabel('extinction probability')\n",
    "plt.title('Extinction probability as a function of beta')\n",
    "plt.show()"
   ]
  },
  {
   "cell_type": "code",
   "execution_count": null,
   "metadata": {},
   "outputs": [],
   "source": []
  }
 ],
 "metadata": {
  "kernelspec": {
   "display_name": "ov_venv_kernel",
   "language": "python",
   "name": "ov_venv_kernel"
  },
  "language_info": {
   "codemirror_mode": {
    "name": "ipython",
    "version": 3
   },
   "file_extension": ".py",
   "mimetype": "text/x-python",
   "name": "python",
   "nbconvert_exporter": "python",
   "pygments_lexer": "ipython3",
   "version": "3.10.5"
  }
 },
 "nbformat": 4,
 "nbformat_minor": 2
}
