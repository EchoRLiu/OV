{
 "cells": [
  {
   "cell_type": "code",
   "execution_count": null,
   "metadata": {},
   "outputs": [],
   "source": [
    "import pandas as pd\n",
    "import numpy as np\n",
    "import matplotlib.pyplot as plt\n",
    "import os"
   ]
  },
  {
   "cell_type": "code",
   "execution_count": null,
   "metadata": {},
   "outputs": [],
   "source": [
    "folder_path = '../../data/'\n",
    "\n",
    "# Plot setting\n",
    "plt.rcParams['font.size'] = 30\n",
    "plt.rcParams['font.family'] = 'Arial'\n",
    "\n",
    "dpi = 100\n",
    "wid = int(8)\n",
    "hei = int(6)\n",
    "\n",
    "red_color = '#f78884'\n",
    "blue_color = '#06688c'"
   ]
  },
  {
   "cell_type": "markdown",
   "metadata": {},
   "source": [
    "# Obtain data from data.csv"
   ]
  },
  {
   "cell_type": "code",
   "execution_count": null,
   "metadata": {},
   "outputs": [],
   "source": [
    "\"\"\"\n",
    "first, we need to import all the data in data/data.csv\n",
    "which has gathered all tumor volume data in McCart 2021 et al. with webplotdigitizer\n",
    "\n",
    "data structure:\n",
    "1. the first 20 columns are the tumor volume under vvDD condition\n",
    "   specifying x (time) and y (tumor volume) for each two columns, totalling 10 samples\n",
    "   the first row can be ignored\n",
    "   the 1-5 rows are the 5 time points for all 10 samples\n",
    "2. the next 20 columns are the tumor volume under control/PBS condition with similar structure\n",
    "3. the last four columns are the mean and stde data of the tumor volume under vvDD condition and control/PBS condition\n",
    "   each two columns specify one condition, respectively the x and y\n",
    "   each three rows specify one time point: mean, stde+, and stde-\n",
    "   again, the first row can be ignored\n",
    "\n",
    "\"\"\"\n",
    "\n",
    "# Read the CSV file\n",
    "df = pd.read_csv(os.path.join(folder_path, 'data.csv'))\n",
    "\n",
    "# Extract tumor volume data for vvDD condition\n",
    "# Select every other column starting from the second column (Y values)\n",
    "tumor_vol_vvDD = df.iloc[1:6, 1:20:2].values  \n",
    "# Create a DataFrame with known time points and extracted tumor volumes \n",
    "tumor_vol_vvDD_df = pd.DataFrame(tumor_vol_vvDD, \n",
    "                                 index=[0, 1, 2, 3, 4], # ([0,1,2,3,4] is used for time instead of [3,4,5,6,7])\n",
    "                                 columns=[f'vvDD_sample_{i+1}' for i in range(10)])\n",
    "\n",
    "# Extract tumor volume data for control/PBS condition\n",
    "# Select every other column starting from the second column (Y values)\n",
    "tumor_vol_pbs = df.iloc[1:6, 21:40:2].values\n",
    "# Create a DataFrame with known time points and extracted tumor volumes\n",
    "tumor_vol_pbs_df = pd.DataFrame(tumor_vol_pbs, \n",
    "                                index=[0, 1, 2, 3, 4], # ([0,1,2,3,4] is used for time instead of [3,4,5,6,7])\n",
    "                                columns=[f'pbs_sample_{i+1}' for i in range(10)])\n",
    "\n",
    "# Extract mean and standard deviation data for vvDD and PBS conditions, to verify the data above later\n",
    "vvDD_mean_stde_data = df.iloc[1:, -3].values\n",
    "pbs_mean_stde_data = df.iloc[1:, -1].values\n",
    "# Create DataFrames for vvDD and PBS data\n",
    "vvDD_mean_stde_df = pd.DataFrame(vvDD_mean_stde_data.reshape(-1, 3), \n",
    "                                 index=[0, 1, 2, 3, 4], \n",
    "                                 columns=['mean', 'stde_plus', 'stde_minus'])\n",
    "\n",
    "pbs_mean_stde_df = pd.DataFrame(pbs_mean_stde_data.reshape(-1, 3), \n",
    "                                index=[0, 1, 2, 3, 4], \n",
    "                                columns=['mean', 'stde_plus', 'stde_minus'])\n",
    "\n",
    "# convert data to numeric type\n",
    "tumor_vol_vvDD_df = tumor_vol_vvDD_df.apply(pd.to_numeric, errors='coerce')\n",
    "tumor_vol_pbs_df = tumor_vol_pbs_df.apply(pd.to_numeric, errors='coerce')\n",
    "vvDD_mean_stde_df = vvDD_mean_stde_df.apply(pd.to_numeric, errors='coerce')\n",
    "pbs_mean_stde_df = pbs_mean_stde_df.apply(pd.to_numeric, errors='coerce')"
   ]
  },
  {
   "cell_type": "markdown",
   "metadata": {},
   "source": [
    "# Verify data"
   ]
  },
  {
   "cell_type": "code",
   "execution_count": null,
   "metadata": {},
   "outputs": [],
   "source": [
    "# plot the individual tumor volume data for vvDD and PBS condition\n",
    "# this figure can then be checked with the original data in the paper\n",
    "plt.figure(figsize=(wid, hei))\n",
    "\n",
    "# Plot vvDD data\n",
    "for i in range(10):\n",
    "    plt.plot(tumor_vol_vvDD_df.index, tumor_vol_vvDD_df.iloc[:, i], \n",
    "             marker='o', linestyle='-', lw=3, color=blue_color, alpha=0.4, label='vvDD' if i == 0 else \"\")\n",
    "\n",
    "# Plot PBS data\n",
    "for i in range(10):\n",
    "    plt.plot(tumor_vol_pbs_df.index, tumor_vol_pbs_df.iloc[:, i], \n",
    "             marker='o', linestyle='-', lw=3, color=red_color, alpha=0.4, label='PBS' if i == 0 else \"\")\n",
    "\n",
    "plt.xlabel('Time (days)')\n",
    "plt.ylabel(r'Tumor Volume ($\\mu m^3$)')\n",
    "plt.title('Tumor Volume vs. Time\\n(vvDD and PBS Conditions)')\n",
    "plt.legend()\n",
    "plt.grid(False)\n",
    "plt.xticks(np.arange(5), np.arange(5)+3)\n",
    "plt.legend(loc='lower center', ncol=2, frameon=False, bbox_to_anchor=(0.5, -0.5))\n",
    "plt.show()"
   ]
  },
  {
   "cell_type": "code",
   "execution_count": null,
   "metadata": {},
   "outputs": [],
   "source": [
    "# plot the mean and stde data for vvDD and PBS condition\n",
    "# the calculated mean and stde data can be compared with the provided data to verify everything is okay\n",
    "\n",
    "# Calculate mean and standard error for vvDD\n",
    "vvDD_mean = tumor_vol_vvDD_df.mean(axis=1)\n",
    "vvDD_se = tumor_vol_vvDD_df.sem(axis=1)\n",
    "# Calculate mean and standard error for PBS\n",
    "pbs_mean = tumor_vol_pbs_df.mean(axis=1)\n",
    "pbs_se = tumor_vol_pbs_df.sem(axis=1)\n",
    "\n",
    "# Plot both provided and calculated data\n",
    "plt.figure(figsize=(wid, hei))\n",
    "# Plot provided data\n",
    "plt.errorbar(vvDD_mean_stde_df.index, vvDD_mean_stde_df['mean'], \n",
    "             yerr=[vvDD_mean_stde_df['mean'] - vvDD_mean_stde_df['stde_minus'], \n",
    "                   vvDD_mean_stde_df['stde_plus'] - vvDD_mean_stde_df['mean']],\n",
    "             fmt='o-', lw=3, color=blue_color, ecolor='lightblue', capsize=5, capthick=3, label='vvDD (provided)')\n",
    "plt.errorbar(pbs_mean_stde_df.index, pbs_mean_stde_df['mean'], \n",
    "             yerr=[pbs_mean_stde_df['mean'] - pbs_mean_stde_df['stde_minus'], \n",
    "                   pbs_mean_stde_df['stde_plus'] - pbs_mean_stde_df['mean']],\n",
    "             fmt='o-', lw=3, color=red_color, ecolor='lightcoral', capsize=5, capthick=3, label='PBS (provided)')\n",
    "# Plot calculated data\n",
    "plt.errorbar(vvDD_mean.index, vvDD_mean, yerr=vvDD_se,\n",
    "             fmt='s--', lw=3, color='darkblue', ecolor=blue_color, capsize=5,capthick=3,  label='vvDD (calculated)')\n",
    "plt.errorbar(pbs_mean.index, pbs_mean, yerr=pbs_se,\n",
    "             fmt='s--', lw=3, color='darkred', ecolor=red_color, capsize=5, capthick=3, label='PBS (calculated)')\n",
    "plt.xlabel('Time (days)')\n",
    "plt.ylabel(r'Tumor Volume ($\\mu m^3$)')\n",
    "# plt.title('Verify Data Processing\\n(Compare Provided and Calculated mean and std)')\n",
    "plt.legend()\n",
    "plt.grid(False)\n",
    "plt.xticks([0,1,2,3,4], [3, 4, 5, 6, 7])\n",
    "plt.legend(loc='lower center', ncol=1, frameon=False, bbox_to_anchor=(0.5, -0.9))\n",
    "plt.show()"
   ]
  },
  {
   "cell_type": "markdown",
   "metadata": {},
   "source": [
    "*One can check whether all the means and stds are matching with the mean and std obatained directly from the paper, to verify whether the processing of the data is correct*"
   ]
  },
  {
   "cell_type": "code",
   "execution_count": null,
   "metadata": {},
   "outputs": [],
   "source": [
    "# Create a figure with both the individual and the mean/std data\n",
    "# this is for the paper\n",
    "fig, axs = plt.subplots(1, 1, figsize=(8, hei))\n",
    "\n",
    "# Plot individial vvDD data\n",
    "for i in range(10):\n",
    "    axs.plot(tumor_vol_vvDD_df.index+3, tumor_vol_vvDD_df.iloc[:, i], \n",
    "             marker='o', linestyle='--', dashes=(3, 1), linewidth=3, color=blue_color, alpha=0.4, label='vvDD' if i == 0 else \"\", zorder=i)\n",
    "\n",
    "# Plot individual PBS data\n",
    "for i in range(10):\n",
    "    axs.plot(tumor_vol_pbs_df.index+3, tumor_vol_pbs_df.iloc[:, i], \n",
    "             marker='o', linestyle='--', dashes=(3, 1), linewidth=3, color=red_color, alpha=0.4, label='control' if i == 0 else \"\", zorder=11+i)\n",
    "\n",
    "# Calculate mean and standard error for vvDD\n",
    "vvDD_mean = (tumor_vol_vvDD_df).mean(axis=1)\n",
    "vvDD_std = (tumor_vol_vvDD_df).std(axis=1)\n",
    "# Calculate mean and standard error for PBS\n",
    "pbs_mean = (tumor_vol_pbs_df).mean(axis=1)\n",
    "pbs_std = (tumor_vol_pbs_df).std(axis=1)\n",
    "\n",
    "# Plot mean/std data\n",
    "axs.errorbar(pbs_mean.index+3, pbs_mean, yerr=pbs_std,\n",
    "             fmt='s-', lw=4, color=red_color, ecolor=red_color, alpha=1, capsize=10, capthick=3, label='control', zorder=21)\n",
    "axs.errorbar(vvDD_mean.index+3, vvDD_mean, yerr=vvDD_std,\n",
    "             fmt='s-', lw=4, color=blue_color, ecolor=blue_color, alpha=1, capsize=10, capthick=3, label='vvDD', zorder=22)\n",
    "\n",
    "\n",
    "axs.set_xlabel('Time [days]')\n",
    "axs.set_ylabel(r'Tumor Volume [$\\mu m^3$]') \n",
    "# axs.set_title('Individual and Population Data', pad=20, loc='center')\n",
    "axs.text(-0.35, 1.22, 'b', transform=axs.transAxes, fontsize=40, fontweight='bold', va='top', ha='right')\n",
    "\n",
    "# Adjust layout and save the figure\n",
    "handles, labels = axs.get_legend_handles_labels()\n",
    "fig.legend(handles, labels, loc='lower center', ncol=2, frameon=False, bbox_to_anchor=(0.5, -0.2))\n",
    "# Remove top and right lines\n",
    "axs.spines['top'].set_visible(False)\n",
    "axs.spines['right'].set_visible(False)\n",
    "# Make spines thicker\n",
    "axs.spines['left'].set_linewidth(2)\n",
    "axs.spines['bottom'].set_linewidth(2)\n",
    "# Make ticks thicker\n",
    "axs.tick_params(width=2)\n",
    "axs.grid(False)\n",
    "axs.set_xticks([3, 4, 5, 6, 7])\n",
    "\n",
    "plt.tight_layout()\n",
    "plt.subplots_adjust(left=0.35, right=0.85)  # Adjust left and right to make x-axis narrower\n",
    "plt.subplots_adjust(wspace=0.6)  # Add more space between subplots\n",
    "plt.savefig(folder_path + 'original_data.pdf', dpi=300, bbox_inches='tight')\n",
    "plt.show()"
   ]
  },
  {
   "cell_type": "markdown",
   "metadata": {},
   "source": [
    "# Scaling of the data"
   ]
  },
  {
   "cell_type": "code",
   "execution_count": null,
   "metadata": {},
   "outputs": [],
   "source": [
    "# Combine day 3 data for vvDD and PBS samples\n",
    "day3_vvDD = tumor_vol_vvDD_df.iloc[0]\n",
    "day3_pbs = tumor_vol_pbs_df.iloc[0]\n",
    "day3_combined = pd.concat([day3_vvDD, day3_pbs])\n",
    "\n",
    "# Calculate the average volume at day 3 for all samples\n",
    "day3_avg = day3_combined.mean()\n",
    "\n",
    "# Calculate the scaling factor s\n",
    "s = day3_avg / 800\n",
    "\n",
    "print(f\"Average volume at day 3 for all samples: {day3_avg}\")\n",
    "print(f\"Assuming 800 cells at day 3, the average s (scaling factor): {s}\")"
   ]
  },
  {
   "cell_type": "code",
   "execution_count": null,
   "metadata": {},
   "outputs": [],
   "source": [
    "# rescale the tumor volume to tumor cell number\n",
    "scaled_tumor_vol_vvDD_df = tumor_vol_vvDD_df / s\n",
    "scaled_tumor_vol_pbs_df = tumor_vol_pbs_df / s"
   ]
  },
  {
   "cell_type": "markdown",
   "metadata": {},
   "source": [
    "# Coefficient of Variation calculation to decide the noise model"
   ]
  },
  {
   "cell_type": "code",
   "execution_count": null,
   "metadata": {},
   "outputs": [],
   "source": [
    "# Calculate the coefficient of variation for vvDD condition\n",
    "vvDD_cv = scaled_tumor_vol_vvDD_df.std(axis=1) / scaled_tumor_vol_vvDD_df.mean(axis=1)\n",
    "\n",
    "# Calculate the coefficient of variation for PBS condition\n",
    "pbs_cv = scaled_tumor_vol_pbs_df.std(axis=1) / scaled_tumor_vol_pbs_df.mean(axis=1)\n",
    "\n",
    "# Display the results\n",
    "print(\"Coefficient of Variation for vvDD condition:\")\n",
    "print(vvDD_cv)\n",
    "\n",
    "print(\"\\nCoefficient of Variation for PBS condition:\")\n",
    "print(pbs_cv)"
   ]
  },
  {
   "cell_type": "markdown",
   "metadata": {},
   "source": [
    "*Since the CoV is increasing as the mean decreases for the vvDD condition, while almost constant for the PBS condition, we decide to use a addtive noise model adjusted by the signal intensity (tumor volume).*"
   ]
  },
  {
   "cell_type": "markdown",
   "metadata": {},
   "source": [
    "# Creation of the measurements_scaled.tsv file"
   ]
  },
  {
   "cell_type": "code",
   "execution_count": null,
   "metadata": {},
   "outputs": [],
   "source": [
    "# make the measurement.tsv file\n",
    "def create_rows(df, condition):\n",
    "    rows = []\n",
    "    for time in df.index:\n",
    "        for col in df.columns:\n",
    "            rows.append({\n",
    "                'observableId': 'tumor_num',\n",
    "                'simulationConditionId': condition,\n",
    "                'measurement': df.loc[time, col],\n",
    "                'time': time,\n",
    "            })\n",
    "    return rows\n",
    "\n",
    "# Create rows for vvDD and PBS conditions\n",
    "vvDD_rows = create_rows(scaled_tumor_vol_vvDD_df, 'vvDD')\n",
    "pbs_rows = create_rows(scaled_tumor_vol_pbs_df, 'ctrl')\n",
    "\n",
    "# Combine all rows\n",
    "all_rows = vvDD_rows + pbs_rows\n",
    "\n",
    "# Create the final dataframe\n",
    "measurements_df = pd.DataFrame(all_rows)\n",
    "\n",
    "# Reorder columns to match the specified order\n",
    "column_order = ['observableId', 'simulationConditionId', 'measurement', 'time']\n",
    "measurements_df = measurements_df[column_order]\n",
    "\n",
    "# Save to TSV file\n",
    "measurements_df.to_csv('petab_files/measurements_scaled.tsv', sep='\\t', index=False)"
   ]
  },
  {
   "cell_type": "markdown",
   "metadata": {},
   "source": [
    "# Creation of parameters.tsv, observable.tsv, conditions.tsv, visualization.tsv file"
   ]
  },
  {
   "cell_type": "code",
   "execution_count": null,
   "metadata": {},
   "outputs": [],
   "source": [
    "# Create the parameter table\n",
    "parameter_df = pd.DataFrame({\n",
    "    'parameterId': ['rho', 'kappa', 'psi', 'beta', 'alpha', 'delta', 'sigma_a', 'sigma_b'],\n",
    "    'parameterName': ['rho', 'kappa', 'psi', 'beta', 'alpha', 'delta', 'sigma_a', 'sigma_b'],\n",
    "    'parameterScale': ['log10'] * 8,\n",
    "    'lowerBound': [0.42, 1e2, 1e-10, 1e0, 1e-4, 1e-2, 1e1, 1e-4],\n",
    "    'upperBound': [1.66, 1e5, 1e-2, 1e4, 1e3, 1e2, 1e5, 1e2],\n",
    "    'nominalValue': [1] * 8,\n",
    "    'estimate': [1] * 8,\n",
    "    'parameterType': [''] * 8\n",
    "})\n",
    "# export the parameter table to tsv file\n",
    "parameter_df.to_csv('petab_files/parameters.tsv', sep='\\t', index=False)"
   ]
  },
  {
   "cell_type": "code",
   "execution_count": null,
   "metadata": {},
   "outputs": [],
   "source": [
    "# Create the observable table\n",
    "observable_df = pd.DataFrame({\n",
    "    'observableId': ['tumor_num'],\n",
    "    'observableName': ['tumor_number'],\n",
    "    'observableFormula': ['U + I'],\n",
    "    'noiseFormula': ['sqrt(sigma_a^2 + (sigma_b * (U + I))^2)'],\n",
    "    'noiseDistribution': ['normal'],\n",
    "    'observableTransformation': ['lin']\n",
    "})\n",
    "# export the observable table to tsv file\n",
    "observable_df.to_csv('petab_files/observables.tsv', sep='\\t', index=False)"
   ]
  },
  {
   "cell_type": "code",
   "execution_count": null,
   "metadata": {},
   "outputs": [],
   "source": [
    "# Create the condition table\n",
    "condition_df = pd.DataFrame({\n",
    "    'conditionId': ['vvDD', 'ctrl'],\n",
    "    'conditionName': ['vvDD', 'ctrl'],\n",
    "    'u_2': [1e9, 0]\n",
    "})\n",
    "# export the condition table to tsv file\n",
    "condition_df.to_csv('petab_files/conditions.tsv', sep='\\t', index=False)"
   ]
  },
  {
   "cell_type": "code",
   "execution_count": null,
   "metadata": {},
   "outputs": [],
   "source": [
    "# Create the visualization table\n",
    "\n",
    "visualization_df = pd.DataFrame({\n",
    "    'plotId': ['plot1'],\n",
    "    'plotTypeData': ['MeanAndSD'],\n",
    "    'plotTypeSimulation': ['ScatterPlot'],\n",
    "    'xValues': ['condition'],\n",
    "    'xLabel': ['Condition'],\n",
    "    'yValues': ['tumor_num'],\n",
    "    'yLabel': ['Tumor Number'],\n",
    "    'legendEntry': ['Model']\n",
    "})\n",
    "\n",
    "# export the visualization table to tsv file\n",
    "visualization_df.to_csv('petab_files/visualizations.tsv', sep='\\t', index=False)"
   ]
  },
  {
   "cell_type": "code",
   "execution_count": null,
   "metadata": {},
   "outputs": [],
   "source": []
  }
 ],
 "metadata": {
  "kernelspec": {
   "display_name": "venv_ov",
   "language": "python",
   "name": "venv_ov"
  },
  "language_info": {
   "codemirror_mode": {
    "name": "ipython",
    "version": 3
   },
   "file_extension": ".py",
   "mimetype": "text/x-python",
   "name": "python",
   "nbconvert_exporter": "python",
   "pygments_lexer": "ipython3",
   "version": "3.12.3"
  }
 },
 "nbformat": 4,
 "nbformat_minor": 2
}
