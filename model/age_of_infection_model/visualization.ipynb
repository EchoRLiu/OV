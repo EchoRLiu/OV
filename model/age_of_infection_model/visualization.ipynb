{
 "cells": [
  {
   "cell_type": "code",
   "execution_count": null,
   "metadata": {},
   "outputs": [],
   "source": [
    "import numpy as np\n",
    "import pandas as pd\n",
    "import scipy\n",
    "import matplotlib.pyplot as plt\n",
    "import matplotlib\n",
    "import statsmodels.api as sm\n",
    "import os\n",
    "\n",
    "import petab\n",
    "import pypesto\n",
    "import pypesto.petab\n",
    "from pypesto.optimize import minimize\n",
    "from pypesto.engine import MultiProcessEngine\n",
    "from pypesto.optimize.optimizer import FidesOptimizer\n",
    "from pypesto.visualize import waterfall, parameters, profiles\n",
    "from pypesto.visualize.model_fit import _get_simulation_rdatas\n",
    "import pypesto.profile as profile\n",
    "from pypesto.optimize import ScipyOptimizer\n",
    "from pypesto.profile.options import ProfileOptions"
   ]
  },
  {
   "cell_type": "markdown",
   "metadata": {},
   "source": [
    "Some plotting helper functions"
   ]
  },
  {
   "cell_type": "code",
   "execution_count": null,
   "metadata": {},
   "outputs": [],
   "source": [
    "def hex_to_rgba_gradient(color1, color2, n):\n",
    "    '''\n",
    "    Create a gradient in rgba between two hex colors\n",
    "    '''\n",
    "    # Convert to rgba\n",
    "    c1 = matplotlib.colors.to_rgba(matplotlib.colors.hex2color(color1))\n",
    "    c2 = matplotlib.colors.to_rgba(matplotlib.colors.hex2color(color2))\n",
    "\n",
    "    return [[(c1[i]*(n-j-1) + c2[i]*j)/(n-1) for i in range(4)] for j in range(n)]\n",
    "\n",
    "# find the index for cut off based on Chi square distribution CI 95%\n",
    "def find_cut_off_index(result, ci = 0.95):\n",
    "    '''\n",
    "    Find the cut off index for the data based on the Chi square distribution\n",
    "    '''\n",
    "\n",
    "    # calculate the chi square distribution\n",
    "    cut_off_value = scipy.stats.chi2.ppf(ci, 1)\n",
    "\n",
    "    # find the index\n",
    "    best_fval = result.optimize_result.list[0].fval\n",
    "\n",
    "    for i in range(len(result.optimize_result.list)):\n",
    "        if result.optimize_result.list[i].fval > best_fval + cut_off_value:\n",
    "            break\n",
    "    \n",
    "    return i - 1"
   ]
  },
  {
   "cell_type": "code",
   "execution_count": null,
   "metadata": {},
   "outputs": [],
   "source": [
    "# Plot setting\n",
    "plt.rcParams['font.size'] = 30\n",
    "plt.rcParams['font.family'] = 'Arial'\n",
    "\n",
    "dpi = 100\n",
    "wid = int(2560/dpi)\n",
    "hei = int(1600/dpi)\n",
    "\n",
    "red_color = '#f78884'\n",
    "blue_color = '#06688c'\n",
    "\n",
    "# Define the folder where you want to save the figures\n",
    "folder_path = \"../../figure/age_of_infection_model/\"\n",
    "# If the folder does not exist, create it\n",
    "if not os.path.exists(folder_path):\n",
    "    os.makedirs(folder_path)"
   ]
  },
  {
   "cell_type": "markdown",
   "metadata": {},
   "source": [
    "# import the petab problem and load the optimization result"
   ]
  },
  {
   "cell_type": "code",
   "execution_count": null,
   "metadata": {},
   "outputs": [],
   "source": [
    "# number of optimization runs\n",
    "n_runs, max_iter = 5000, 5000\n",
    "# set the random seed\n",
    "np.random.seed(500)"
   ]
  },
  {
   "cell_type": "code",
   "execution_count": null,
   "metadata": {},
   "outputs": [],
   "source": [
    "# import the petab problem\n",
    "petab_yaml = 'petab_files/age_of_infection_model.yaml'\n",
    "petab.validate(petab_yaml)\n",
    "petab_problem = petab.Problem.from_yaml(petab_yaml)\n",
    "\n",
    "problem = pypesto.petab.PetabImporter(\n",
    "        petab_problem,\n",
    "        hierarchical=False,\n",
    "        model_name=f\"Age_of_Infection_Model\",\n",
    "    ).create_problem(force_compile=True, verbose=False)\n",
    "problem.objective.amici_model.setAllStatesNonNegative()\n",
    "\n",
    "# some model properties\n",
    "print(\"Model parameters:\", list(problem.objective.amici_model.getParameterIds()), \"\\n\")\n",
    "print(\"Model const parameters:\", list(problem.objective.amici_model.getFixedParameterIds()), \"\\n\")\n",
    "print(\"Model outputs:   \", list(problem.objective.amici_model.getObservableIds()), \"\\n\")\n",
    "print(\"Model states:    \", list(problem.objective.amici_model.getStateIds()), \"\\n\")"
   ]
  },
  {
   "cell_type": "code",
   "execution_count": null,
   "metadata": {},
   "outputs": [],
   "source": [
    "# load result history from file\n",
    "result = pypesto.store.read_result('optimization_history/age_of_infection_model.hdf5')\n",
    "\n",
    "# print result summary\n",
    "print(result.summary())"
   ]
  },
  {
   "cell_type": "code",
   "execution_count": null,
   "metadata": {},
   "outputs": [],
   "source": [
    "parameters_from_result = dict(zip(problem.x_names, result.optimize_result.list[0]['x']))\n",
    "# Scale all parameters and put them into a dictionary\n",
    "scaled_parameters = {key: 10**value for key, value in parameters_from_result.items()}\n",
    "\n",
    "# Print the scaled parameters\n",
    "print(\"Scaled parameters:\")\n",
    "for key, value in scaled_parameters.items():\n",
    "    print(f\"{key}: {value}\")"
   ]
  },
  {
   "cell_type": "markdown",
   "metadata": {},
   "source": [
    "# Obtain data and visualize the fitting result"
   ]
  },
  {
   "cell_type": "code",
   "execution_count": null,
   "metadata": {},
   "outputs": [],
   "source": [
    "return_dict = problem.objective(result.optimize_result.list[0].x, return_dict=True)\n",
    "rdatas = return_dict['rdatas']\n",
    "edatas = problem.objective.edatas\n",
    "x_axis = [edata.id for edata in edatas]\n",
    "simulation = [rdata.y.reshape(5, -1)[:,0] for rdata in rdatas]\n",
    "data = [np.array(edata.getObservedData()).reshape(5, -1) for edata in edatas]"
   ]
  },
  {
   "cell_type": "code",
   "execution_count": null,
   "metadata": {},
   "outputs": [],
   "source": [
    "# get the statistics for 95% CI\n",
    "cut_off_index = find_cut_off_index(result)\n",
    "# define as in petab_files_creation.ipynb to convert the data back to tumor volume\n",
    "s = 3510.7678534742176"
   ]
  },
  {
   "cell_type": "code",
   "execution_count": null,
   "metadata": {},
   "outputs": [],
   "source": [
    "\"\"\"\n",
    "visualize the temporal dynamics of the virus, uninfected and infected tumor cells using the fitted model from the result\n",
    "from day 3 to day 7\n",
    "get the simulation results for the optimized parameters\n",
    "\"\"\"\n",
    "\n",
    "amici_model = problem.objective.amici_model\n",
    "\n",
    "L = 5\n",
    "species_to_plot = ['U'] + ['I_1'] + [f'I_{L}'] + ['V']\n",
    "\n",
    "# simulate from day 3 to day 12\n",
    "stop_day = 4\n",
    "timepoints = np.linspace(start=0, stop=stop_day, num=100)\n",
    "\n",
    "simulation_rdatas = _get_simulation_rdatas(\n",
    "    result=result,\n",
    "    problem=problem,\n",
    "    start_index = 0,\n",
    "    simulation_timepoints=timepoints,\n",
    ")"
   ]
  },
  {
   "cell_type": "code",
   "execution_count": null,
   "metadata": {},
   "outputs": [],
   "source": [
    "# calculate the 1-sigma for the simulation\n",
    "sigma_a = scaled_parameters['sigma_a']\n",
    "sigma_b = scaled_parameters['sigma_b']\n",
    "\n",
    "sigma_pbs = np.sqrt(sigma_a**2 + (simulation_rdatas[0]['y'].reshape(1, -1)[0] * sigma_b)**2)\n",
    "sigma_vvDD = np.sqrt(sigma_a**2 + (simulation_rdatas[1]['y'].reshape(1, -1)[0] * sigma_b)**2)\n",
    "\n",
    "# Calculate mean and standard error for vvDD\n",
    "vvDD_mean = (data[1]*s).mean(axis=1)\n",
    "vvDD_se = (data[1]*s).std(axis=1)\n",
    "# Calculate mean and standard error for PBS\n",
    "pbs_mean = (data[0]*s).mean(axis=1)\n",
    "pbs_se = (data[0]*s).std(axis=1)"
   ]
  },
  {
   "cell_type": "code",
   "execution_count": null,
   "metadata": {},
   "outputs": [],
   "source": [
    "# Create a 3x2 subplot layout with shared x-axis for all subplots\n",
    "\"\"\"\n",
    "the first column is for the model vs data population plot\n",
    "the second column is for the state trajectories plot\n",
    "\"\"\"\n",
    "fig = plt.figure(figsize=(12, 12), constrained_layout=True)\n",
    "\n",
    "gs = fig.add_gridspec(4, 2)\n",
    "ax1 = fig.add_subplot(gs[:2, :])\n",
    "ax2 = fig.add_subplot(gs[2, 0])\n",
    "ax3 = fig.add_subplot(gs[2, 1])\n",
    "ax4 = fig.add_subplot(gs[3, 0])\n",
    "ax5 = fig.add_subplot(gs[3, 1])\n",
    "\n",
    "# Panel a: Model vs data (population)\n",
    "ax1.errorbar(np.array([3, 4, 5, 6, 7]), pbs_mean, yerr=[pbs_se], fmt='o--', lw=5, color=red_color, alpha=0.4, ecolor=red_color, capsize=5, capthick=5, label='control (data)', zorder=1)\n",
    "ax1.errorbar(np.array([3, 4, 5, 6, 7]), vvDD_mean, yerr=[vvDD_se], fmt='o--', lw=5, color=blue_color, alpha=0.4, ecolor=blue_color, capsize=5, capthick=5, label='vvDD (data)', zorder=2)\n",
    "ax1.plot(timepoints + 3, simulation_rdatas[0]['y'].reshape(1, -1)[0] * s, linestyle='-', lw=5, color=red_color, alpha=1, label='control (simulation)', zorder=3)\n",
    "ax1.plot(timepoints + 3, simulation_rdatas[1]['y'].reshape(1, -1)[0] * s, linestyle='-', lw=5, color=blue_color, alpha=1, label='vvDD (simulation)', zorder=4)\n",
    "ax1.fill_between(timepoints + 3, simulation_rdatas[0]['y'].reshape(1, -1)[0] * s - s * sigma_pbs, simulation_rdatas[0]['y'].reshape(1, -1)[0] * s + s * sigma_pbs, color=red_color, alpha=0.2, edgecolor='none', zorder=3)\n",
    "ax1.fill_between(timepoints + 3, simulation_rdatas[1]['y'].reshape(1, -1)[0] * s - s * sigma_vvDD, simulation_rdatas[1]['y'].reshape(1, -1)[0] * s + s * sigma_vvDD, color=blue_color, alpha=0.2, edgecolor='none', zorder=4)\n",
    "ax1.set_xlabel('Time [days]')\n",
    "ax1.set_ylabel(r'Tumor Volume [$\\mu m^3$]')\n",
    "# ax1.set_title('Model vs data (population)', pad=20, loc='center')\n",
    "ax1.grid(False)\n",
    "ax1.set_xticks([3, 4, 5, 6, 7])\n",
    "\n",
    "ax1.yaxis.set_tick_params(labelleft=True)\n",
    "ax1.spines['top'].set_visible(False)\n",
    "ax1.spines['right'].set_visible(False)\n",
    "ax1.spines['left'].set_linewidth(2)\n",
    "ax1.spines['bottom'].set_linewidth(2)\n",
    "ax1.tick_params(width=2)\n",
    "\n",
    "# calculate the 1-sigma for the simulation\n",
    "sigma_a = scaled_parameters['sigma_a']\n",
    "sigma_b = scaled_parameters['sigma_b']\n",
    "\n",
    "# Panel b: State trajectories\n",
    "axs = [ax2, ax3, ax4, ax5]\n",
    "for i, species in enumerate(species_to_plot):\n",
    "    for c_, condition in enumerate(['ctrl', 'vvDD']):\n",
    "        ax = axs[i]\n",
    "        color = red_color if condition == 'ctrl' else blue_color\n",
    "        ax.plot(timepoints + 3, simulation_rdatas[c_]['x'][:, amici_model.getStateIds().index(species)], color=color, lw=5)\n",
    "        ax.set_xticks(np.arange(3, stop_day + 4, 1))\n",
    "        ax.set_xticklabels(np.arange(3, stop_day + 4, 1))\n",
    "        if i == 0:\n",
    "            # ax.set_title(f\"{condition}\", pad=20, loc='center')\n",
    "            ax.set_ylabel(r'[$U$]', labelpad=20)\n",
    "        elif i == 1:\n",
    "            ax.set_ylabel(r'[$I_1$]', labelpad=20)\n",
    "        elif i == 2:\n",
    "            ax.set_ylabel(fr'[$I_{L}$]', labelpad=20)\n",
    "        elif i == 3:\n",
    "            ax.set_ylabel(r'[$V$]', labelpad=20)\n",
    "        ax.yaxis.set_tick_params(labelleft=True)\n",
    "        ax.spines['top'].set_visible(False)\n",
    "        ax.spines['right'].set_visible(False)\n",
    "        ax.spines['left'].set_linewidth(2)\n",
    "        ax.spines['bottom'].set_linewidth(2)\n",
    "        ax.tick_params(width=2)\n",
    "\n",
    "# Adjust the position of the y-axis labels\n",
    "for ax in axs:\n",
    "    ax.yaxis.set_label_coords(-0.3, 0.5)\n",
    "\n",
    "fig.text(0.57, -0.01, 'Time [days]', ha='center', fontsize=30)\n",
    "\n",
    "ax1.text(-0.125, 1.1, 'b', transform=ax1.transAxes, fontsize=40, fontweight='bold', va='top', ha='right')\n",
    "\n",
    "handles, labels = ax1.get_legend_handles_labels()\n",
    "fig.legend(handles, labels, loc='lower center', ncol=2, frameon=False, bbox_to_anchor=(0.5, -0.15))\n",
    "\n",
    "plt.subplots_adjust(wspace=-0.1, hspace=0.1)  # Adjust space between subplots\n",
    "\n",
    "plt.tight_layout()\n",
    "# plt.savefig(folder_path + 'pop_and_states_slim.pdf', dpi=300, bbox_inches='tight')\n",
    "plt.show()"
   ]
  },
  {
   "cell_type": "markdown",
   "metadata": {},
   "source": [
    "# Parameter estimation analysis"
   ]
  },
  {
   "cell_type": "code",
   "execution_count": null,
   "metadata": {},
   "outputs": [],
   "source": [
    "result.problem.x_scales = ['log10'] * len(result.problem.x_names)"
   ]
  },
  {
   "cell_type": "code",
   "execution_count": null,
   "metadata": {},
   "outputs": [],
   "source": [
    "panel_labels = ['a', 'b', 'c', 'd']"
   ]
  },
  {
   "cell_type": "code",
   "execution_count": null,
   "metadata": {},
   "outputs": [],
   "source": [
    "plt.rcParams.update({'font.size': 30})\n",
    "\n",
    "fig = plt.figure(figsize=(wid, hei))\n",
    "\n",
    "gs = fig.add_gridspec(2, 3)\n",
    "ax1 = fig.add_subplot(gs[0, :])\n",
    "ax2 = fig.add_subplot(gs[1, 0])\n",
    "ax3 = fig.add_subplot(gs[1, 1])\n",
    "ax4 = fig.add_subplot(gs[1, 2])\n",
    "\n",
    "waterfall(result, ax=ax1)\n",
    "ax1.set_ylabel('Objective value')\n",
    "\n",
    "# Parameter plots in the second row\n",
    "pypesto.visualize.parameters(result, ax=ax2, plot_inner_parameters=False, start_indices=cut_off_index, colors=hex_to_rgba_gradient('#A7C9F8', '#28518B', cut_off_index))\n",
    "pypesto.visualize.parameters(result, ax=ax3, plot_inner_parameters=False, start_indices=300, colors=hex_to_rgba_gradient('#A7C9F8', '#28518B', 300))\n",
    "pypesto.visualize.parameters(result, ax=ax4, plot_inner_parameters=False, start_indices=100, colors=hex_to_rgba_gradient('#A7C9F8', '#28518B', 100))\n",
    "\n",
    "ax2.set_title('95% CI', fontsize=30)\n",
    "ax3.set_title('Top 300', fontsize=30)\n",
    "ax4.set_title('Top 100', fontsize=30)\n",
    "\n",
    "# Set all the x-axis, x and y labels to have fontsize 30\n",
    "for ax in [ax2, ax3, ax4]:\n",
    "    ax.set_xticklabels(ax.get_xticklabels(), fontsize=20, rotation=45)\n",
    "    ax.set_xlabel('Parameter Value', fontsize=30)\n",
    "ax2.set_ylabel('Parameter', fontsize=30)\n",
    "\n",
    "# Remove top and right lines and make lines and ticks thicker\n",
    "for i, ax in enumerate([ax1, ax2, ax3, ax4]):\n",
    "    ax.spines['top'].set_visible(False)\n",
    "    ax.spines['right'].set_visible(False)\n",
    "    ax.spines['left'].set_linewidth(2)\n",
    "    ax.spines['bottom'].set_linewidth(2)\n",
    "    ax.tick_params(width=2)\n",
    "    # Add panel labels\n",
    "    if i == 0:\n",
    "        ax.text(-0.115, 1.3, panel_labels[i], transform=ax.transAxes, fontsize=40, fontweight='bold', va='top', ha='right')\n",
    "    else:\n",
    "        ax.text(-0.55, 1.3, panel_labels[i], transform=ax.transAxes, fontsize=40, fontweight='bold', va='top', ha='right')\n",
    "\n",
    "plt.tight_layout()\n",
    "plt.savefig(os.path.join(folder_path, 'waterfall_parameters_plot.pdf'), dpi=dpi, bbox_inches=\"tight\")\n",
    "plt.show()"
   ]
  },
  {
   "cell_type": "markdown",
   "metadata": {},
   "source": [
    "# Profiling"
   ]
  },
  {
   "cell_type": "code",
   "execution_count": null,
   "metadata": {},
   "outputs": [],
   "source": [
    "result = profile.parameter_profile(\n",
    "    problem=problem,\n",
    "    result=result,\n",
    "    engine=MultiProcessEngine(),\n",
    "    optimizer=ScipyOptimizer(),\n",
    "    result_index=0,\n",
    "    profile_options=ProfileOptions(whole_path=True),\n",
    ")"
   ]
  },
  {
   "cell_type": "code",
   "execution_count": null,
   "metadata": {},
   "outputs": [],
   "source": [
    "from pypesto.profile import calculate_approximate_ci, chi2_quantile_to_ratio\n",
    "\n",
    "# extract problem\n",
    "problem = result.problem\n",
    "# extract profile list\n",
    "profile_list = result.profile_result.list[0]\n",
    "\n",
    "confidence_ratio = chi2_quantile_to_ratio(0.95)\n",
    "\n",
    "# calculate intervals\n",
    "intervals = []\n",
    "for i_par in range(problem.dim_full):\n",
    "    xs = profile_list[i_par].x_path[i_par]\n",
    "    ratios = profile_list[i_par].ratio_path\n",
    "    lb, ub = calculate_approximate_ci(\n",
    "        xs=xs, ratios=ratios, confidence_ratio=confidence_ratio\n",
    "    )\n",
    "    intervals.append((lb, ub))"
   ]
  },
  {
   "cell_type": "code",
   "execution_count": null,
   "metadata": {},
   "outputs": [],
   "source": [
    "fig, ax = plt.subplots(3, 3, figsize=(12, 10), sharey=True)\n",
    "ax = ax.flatten()  # Flatten the 2D array to 1D for easier iteration\n",
    "labels = [\"$\\\\rho$\", \"$\\\\kappa$\", \"$\\\\psi$\", \"$\\\\phi$\", \"$\\\\beta$\", \"$\\\\alpha$\", \"$\\\\delta$\", \"$\\\\sigma_{a}$\", \"$\\\\sigma_{b}$\"]\n",
    "\n",
    "profiles(result, show_bounds=True, size=(12, 10), colors=[0,0,0,1], profile_list_ids=len(result.profile_result.list)-1, quality_colors=False, ax=ax)\n",
    "\n",
    "cut_off_value = scipy.stats.chi2.ppf(0.95, 1)  # 95% confidence interval cut-off value\n",
    "\n",
    "for i, a in enumerate(ax):\n",
    "    a.set_ylim([0, 1.1])\n",
    "    a.spines['top'].set_visible(False)\n",
    "    a.spines['right'].set_visible(False)\n",
    "    a.spines['left'].set_linewidth(2)\n",
    "    a.spines['bottom'].set_linewidth(2)\n",
    "    a.tick_params(width=2, labelsize=25)  # Set tick label size to 20\n",
    "    for label in a.get_xticklabels():\n",
    "        label.set_rotation(45)\n",
    "    # a.set_xlabel(rf'{labels[i]}', fontsize=40)  # Change x-axis label to math notation and increase font size\n",
    "    a.set_xlabel('')  # Remove innate x-label\n",
    "    a.set_ylabel('')  # Remove innate y-label\n",
    "    if len(a.get_xticks()) == 12:\n",
    "        a.set_xticks(a.get_xticks()[::3])\n",
    "    if len(a.get_xticks()) == 9 or len(a.get_xticks()) == 8 or len(a.get_xticks()) == 7:\n",
    "        a.set_xticks(a.get_xticks()[::2])\n",
    "    if i == 0:\n",
    "        a.set_xticklabels([f'${{{10**(tick):.2f}}}$' for tick in a.get_xticks()])\n",
    "    else:\n",
    "        a.set_xticklabels([f'$10^{{{int(tick)}}}$' for tick in a.get_xticks()])\n",
    "    # Add red dashed line for cut-off threshold\n",
    "    a.axhline(y=np.exp(-cut_off_value/2), color='blue', linestyle='--', linewidth=2)\n",
    "    # Add vertical lines for confidence interval bounds\n",
    "    lb, ub = intervals[i]\n",
    "    # Add horizontal line for confidence interval bounds\n",
    "    a.hlines(y=np.exp(-cut_off_value/2), xmin=lb, xmax=ub, color='red', linestyle='-', linewidth=2)\n",
    "    # Add small vertical bars at the bounds if they are not at the boundary of the axis\n",
    "    if lb > a.get_xlim()[0]:\n",
    "        a.vlines(x=lb, ymin=np.exp(-cut_off_value/2) - 0.02, ymax=np.exp(-cut_off_value/2) + 0.02, color='red', linestyle='-', linewidth=3)\n",
    "    if ub < a.get_xlim()[1]:\n",
    "        a.vlines(x=ub, ymin=np.exp(-cut_off_value/2) - 0.02, ymax=np.exp(-cut_off_value/2) + 0.02, color='red', linestyle='-', linewidth=3)\n",
    "    # Add annotation of the letter \"x\" to the bottom right of each subfigure\n",
    "    a.annotate(rf'{labels[i]}', xy=(0.95, 0.25), xycoords='axes fraction', fontsize=40, ha='right', va='bottom', family='sans-serif')\n",
    "\n",
    "# Add a common y-label\n",
    "fig.text(0.03, 0.5, 'Likelihood Ratio', va='center', rotation='vertical', fontsize=30)\n",
    "# Adjust the position of the y-axis labels\n",
    "for a in ax:\n",
    "    a.xaxis.set_label_coords(0.55, -0.5)\n",
    "\n",
    "plt.subplots_adjust(wspace=0.3, hspace=0.5)\n",
    "plt.savefig(os.path.join(folder_path, 'profile_plot_res.png'), dpi=dpi, bbox_inches=\"tight\")\n",
    "plt.show()"
   ]
  },
  {
   "cell_type": "markdown",
   "metadata": {},
   "source": [
    "# AIC and residue plot"
   ]
  },
  {
   "cell_type": "code",
   "execution_count": null,
   "metadata": {},
   "outputs": [],
   "source": [
    "# Calculate AIC\n",
    "AIC = 2 * len(result.optimize_result.list[0]['x']) + 2 * result.optimize_result.list[0]['fval']\n",
    "\n",
    "print(f\"AIC: {AIC}\")"
   ]
  },
  {
   "cell_type": "code",
   "execution_count": null,
   "metadata": {},
   "outputs": [],
   "source": [
    "n_measurements = 100\n",
    "n_parameters = len(result.optimize_result.list[0]['x'])\n",
    "\n",
    "# Calculate AIC for the small dataset\n",
    "AIC_small = AIC + (2. * n_parameters**2 + 2.*n_parameters)/(n_measurements - n_parameters - 1)\n",
    "\n",
    "print(f\"AICc: {AIC_small}\")"
   ]
  }
 ],
 "metadata": {
  "kernelspec": {
   "display_name": "venv_ov",
   "language": "python",
   "name": "venv_ov"
  },
  "language_info": {
   "codemirror_mode": {
    "name": "ipython",
    "version": 3
   },
   "file_extension": ".py",
   "mimetype": "text/x-python",
   "name": "python",
   "nbconvert_exporter": "python",
   "pygments_lexer": "ipython3",
   "version": "3.12.3"
  }
 },
 "nbformat": 4,
 "nbformat_minor": 2
}
