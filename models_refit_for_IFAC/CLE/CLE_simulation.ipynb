{
 "cells": [
  {
   "cell_type": "code",
   "execution_count": 17,
   "metadata": {},
   "outputs": [],
   "source": [
    "import numpy as np\n",
    "from numba import njit, prange\n",
    "import time\n",
    "\n",
    "@njit\n",
    "def simulate_CLE(C_u0, V_injection, params_rho, params_psi, params_alpha, params_delta, params_kappa, params_beta, dt, sqrt_dt, rand_array):\n",
    "    C_u = C_u0\n",
    "    C_i = 0.\n",
    "    V = 0.\n",
    "    \n",
    "    N_steps = rand_array.shape[0]\n",
    "    injection_step = int(1/dt)\n",
    "\n",
    "    for step in range(N_steps):\n",
    "        if (C_u + C_i) <= 0.0:\n",
    "            break\n",
    "\n",
    "        if step == injection_step:\n",
    "            V = V_injection\n",
    "\n",
    "        a1 = params_rho * C_u * (1. - (C_u + C_i) / params_kappa)\n",
    "        a2 = params_psi * V * C_u\n",
    "        a3 = params_alpha * C_i\n",
    "        a4 = params_delta * V\n",
    "\n",
    "        a2_w2 = np.sqrt(a2) * sqrt_dt * rand_array[step, 1]\n",
    "        a3_w3 = np.sqrt(a3) * sqrt_dt * rand_array[step, 2]\n",
    "\n",
    "        dC_u = (a1 - a2) * dt + np.sqrt(np.maximum(a1, 0)) * sqrt_dt * rand_array[step, 0] - a2_w2\n",
    "        dC_i = (a2 - a3) * dt + a2_w2 - a3_w3\n",
    "        dV = (params_beta * a3 - a2 - a4) * dt + np.sqrt(params_beta) * a3_w3 - a2_w2 - np.sqrt(a4) * sqrt_dt * rand_array[step, 3]\n",
    "        \n",
    "        C_u = np.maximum(C_u + dC_u, 0)\n",
    "        C_i = np.maximum(C_i + dC_i, 0)\n",
    "        V = np.maximum(V + dV, 0)\n",
    "\n",
    "    final_time = step * dt\n",
    "\n",
    "    return np.array([C_u, C_i, V, step])\n",
    "\n",
    "def run_simulation(N_simulations, C_u0, V_injection, params, dt, T, seed = 42):\n",
    "\n",
    "    sqrt_dt = np.sqrt(dt)\n",
    "\n",
    "    # pre-calculate the random numbers\n",
    "    np.random.seed(seed)\n",
    "    random_numbers = np.random.normal(size=(N_simulations, int(T/dt), 4))\n",
    "\n",
    "    results = np.zeros((N_simulations, 4))\n",
    "    \n",
    "    start_run = time.time()\n",
    "    checkpoints = np.linspace(0, N_simulations, 11, dtype=int)[1:]\n",
    "    for i in range(N_simulations):\n",
    "        results[i] = simulate_CLE(C_u0, V_injection, params['rho'], params['psi'], params['alpha'], params['delta'], params['kappa'], params['beta'], dt, sqrt_dt, random_numbers[i])\n",
    "\n",
    "        # Check if we've reached a checkpoint\n",
    "        if i+1 in checkpoints:\n",
    "            elapsed_time = time.time() - start_run\n",
    "            percent_complete = ((i+1) / N_simulations) * 100\n",
    "            estimated_total_time = (elapsed_time / (i+1)) * N_simulations\n",
    "            time_remaining = estimated_total_time - elapsed_time\n",
    "            print(f\"{percent_complete:.0f}% complete. Estimated time remaining: {time_remaining:.2f} seconds.\")\n",
    "\n",
    "    return results"
   ]
  },
  {
   "cell_type": "code",
   "execution_count": 25,
   "metadata": {},
   "outputs": [],
   "source": [
    "params = {'rho': 0.5379080098179797,\n",
    "    'kappa': 777.6924217880852,\n",
    "    'psi': 1.0142995960744846e-15,\n",
    "    'beta': 9999.6,\n",
    "    'alpha': 0.5308450453281762,\n",
    "    'delta': 13.937249271829442}\n"
   ]
  },
  {
   "cell_type": "code",
   "execution_count": 26,
   "metadata": {},
   "outputs": [],
   "source": [
    "N_simulations = 1000\n",
    "C_u0 = 400\n",
    "V_injection = 3e9\n",
    "dt = 0.001\n",
    "T = 100"
   ]
  },
  {
   "cell_type": "code",
   "execution_count": 27,
   "metadata": {},
   "outputs": [
    {
     "name": "stdout",
     "output_type": "stream",
     "text": [
      "10% complete. Estimated time remaining: 1.80 seconds.\n",
      "20% complete. Estimated time remaining: 1.60 seconds.\n",
      "30% complete. Estimated time remaining: 1.40 seconds.\n",
      "40% complete. Estimated time remaining: 1.20 seconds.\n",
      "50% complete. Estimated time remaining: 1.00 seconds.\n",
      "60% complete. Estimated time remaining: 0.80 seconds.\n",
      "70% complete. Estimated time remaining: 0.60 seconds.\n",
      "80% complete. Estimated time remaining: 0.40 seconds.\n",
      "90% complete. Estimated time remaining: 0.20 seconds.\n",
      "100% complete. Estimated time remaining: 0.00 seconds.\n"
     ]
    }
   ],
   "source": [
    "results = run_simulation(N_simulations, C_u0, V_injection, params, dt, T)"
   ]
  },
  {
   "cell_type": "code",
   "execution_count": null,
   "metadata": {},
   "outputs": [],
   "source": [
    "# TODO: optimize the loop - DONE\n",
    "# TODO: calculate the extinction probability and extinction timepoint\n",
    "# TODO: optimal control problem"
   ]
  },
  {
   "cell_type": "code",
   "execution_count": 31,
   "metadata": {},
   "outputs": [
    {
     "data": {
      "text/plain": [
       "99999.0"
      ]
     },
     "execution_count": 31,
     "metadata": {},
     "output_type": "execute_result"
    }
   ],
   "source": [
    "results[:,-1].mean()"
   ]
  },
  {
   "cell_type": "code",
   "execution_count": null,
   "metadata": {},
   "outputs": [],
   "source": []
  }
 ],
 "metadata": {
  "kernelspec": {
   "display_name": "Python 3",
   "language": "python",
   "name": "python3"
  },
  "language_info": {
   "codemirror_mode": {
    "name": "ipython",
    "version": 3
   },
   "file_extension": ".py",
   "mimetype": "text/x-python",
   "name": "python",
   "nbconvert_exporter": "python",
   "pygments_lexer": "ipython3",
   "version": "3.12.3"
  }
 },
 "nbformat": 4,
 "nbformat_minor": 2
}
