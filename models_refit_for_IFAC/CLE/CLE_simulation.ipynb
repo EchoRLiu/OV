{
 "cells": [
  {
   "cell_type": "code",
   "execution_count": 23,
   "metadata": {},
   "outputs": [],
   "source": [
    "import numpy as np\n",
    "from numba import njit, prange\n",
    "\n",
    "def simulate_CLE(C_u0, V_injection, params, dt, sqrt_dt, T, rand_array):\n",
    "    C_u = C_u0\n",
    "    C_i = 0.\n",
    "    V = 0.\n",
    "    time = 0\n",
    "    while time < T and (C_u + C_i) > 0:\n",
    "        if abs(time - 1) < dt / 2:\n",
    "            V = V_injection\n",
    "\n",
    "        a1 = params['rho'] * C_u * (1 - (C_u + C_i) / params['kappa'])\n",
    "        a2 = params['psi'] * V * C_u\n",
    "        a3 = params['alpha'] * C_i\n",
    "        a4 = params['delta'] * V\n",
    "\n",
    "        a2_w2 = np.sqrt(a2) * sqrt_dt * rand_array[int(time/dt), 1]\n",
    "        a3_w3 = np.sqrt(a3) * sqrt_dt * rand_array[int(time/dt), 2]\n",
    "\n",
    "        dC_u = (a1 - a2) * dt + np.sqrt(np.max(a1, 0)) * sqrt_dt * rand_array[int(time/dt), 0] - a2_w2\n",
    "        dC_i = (a2 - a3) * dt + a2_w2 - a3_w3\n",
    "        dV = (params['beta'] * a3 - a2 - a4) * dt + np.sqrt(params['beta']) * a3_w3 - a2_w2 - np.sqrt(a4) * sqrt_dt * rand_array[int(time/dt), 3]\n",
    "        \n",
    "        C_u += dC_u\n",
    "        C_u = max(C_u, 0)\n",
    "        C_i += dC_i\n",
    "        C_i = max(C_i, 0)\n",
    "        V += dV\n",
    "        V = max(V, 0)\n",
    "\n",
    "        time += dt\n",
    "\n",
    "    return [C_u, C_i, V, time] # the small dt difference for time?\n",
    "\n",
    "def run_simulation(N_simulations, C_u0, V_injection, params, dt, T, seed = 42):\n",
    "\n",
    "    sqrt_dt = np.sqrt(dt)\n",
    "\n",
    "    # pre-calculate the random numbers\n",
    "    np.random.seed(seed)\n",
    "    random_numbers = np.random.normal(size=(N_simulations, int(T/dt), 4))\n",
    "\n",
    "    results = np.zeros((N_simulations, 4))\n",
    "    for i in range(N_simulations):\n",
    "        results[i] = simulate_CLE(C_u0, V_injection, params, dt, sqrt_dt, T, random_numbers[i])\n",
    "\n",
    "    return results"
   ]
  },
  {
   "cell_type": "code",
   "execution_count": 24,
   "metadata": {},
   "outputs": [],
   "source": [
    "params = {'rho': 0.5379080098179797,\n",
    "    'kappa': 777.6924217880852,\n",
    "    'psi': 1.0142995960744846e-15,\n",
    "    'beta': 999997793935659.6,\n",
    "    'alpha': 0.5308450453281762,\n",
    "    'delta': 13.937249271829442}\n"
   ]
  },
  {
   "cell_type": "code",
   "execution_count": 25,
   "metadata": {},
   "outputs": [],
   "source": [
    "N_simulations = 1000\n",
    "C_u0 = 400\n",
    "V_injection = 3e9\n",
    "dt = 0.001\n",
    "T = 100"
   ]
  },
  {
   "cell_type": "code",
   "execution_count": 26,
   "metadata": {},
   "outputs": [],
   "source": [
    "results = run_simulation(N_simulations, C_u0, V_injection, params, dt, T)"
   ]
  },
  {
   "cell_type": "code",
   "execution_count": null,
   "metadata": {},
   "outputs": [],
   "source": [
    "# TODO: calculate the extinction probability and extinction timepoint\n",
    "# TODO: optimal control problem"
   ]
  },
  {
   "cell_type": "code",
   "execution_count": 27,
   "metadata": {},
   "outputs": [
    {
     "data": {
      "text/plain": [
       "array([[0.00000000e+00, 0.00000000e+00, 1.33510155e+12, 1.43330000e+01],\n",
       "       [0.00000000e+00, 0.00000000e+00, 1.16818506e+12, 1.75580000e+01],\n",
       "       [0.00000000e+00, 0.00000000e+00, 1.51237595e+12, 1.90870000e+01],\n",
       "       ...,\n",
       "       [0.00000000e+00, 0.00000000e+00, 1.39849064e+12, 1.73060000e+01],\n",
       "       [0.00000000e+00, 0.00000000e+00, 2.42891667e+12, 1.56100000e+01],\n",
       "       [0.00000000e+00, 0.00000000e+00, 7.41631962e+11, 1.56240000e+01]])"
      ]
     },
     "execution_count": 27,
     "metadata": {},
     "output_type": "execute_result"
    }
   ],
   "source": [
    "results"
   ]
  },
  {
   "cell_type": "code",
   "execution_count": null,
   "metadata": {},
   "outputs": [],
   "source": []
  }
 ],
 "metadata": {
  "kernelspec": {
   "display_name": "Python 3",
   "language": "python",
   "name": "python3"
  },
  "language_info": {
   "codemirror_mode": {
    "name": "ipython",
    "version": 3
   },
   "file_extension": ".py",
   "mimetype": "text/x-python",
   "name": "python",
   "nbconvert_exporter": "python",
   "pygments_lexer": "ipython3",
   "version": "3.12.3"
  }
 },
 "nbformat": 4,
 "nbformat_minor": 2
}
