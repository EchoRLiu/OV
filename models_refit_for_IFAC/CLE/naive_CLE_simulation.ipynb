{
 "cells": [
  {
   "cell_type": "code",
   "execution_count": 16,
   "metadata": {},
   "outputs": [],
   "source": [
    "import numpy as np\n",
    "from numba import njit, prange\n",
    "import time\n",
    "\n",
    "@njit\n",
    "def simulate_CLE(C_u0, V_injection, params_rho, params_psi, params_alpha, params_delta, params_kappa, params_beta, dt, sqrt_dt, rand_array, extinction_threshold):\n",
    "    C_u = C_u0\n",
    "    C_i = 0.\n",
    "    V = 0.\n",
    "    \n",
    "    N_steps = rand_array.shape[0]\n",
    "    injection_step = int(1/dt)\n",
    "\n",
    "    for step in range(N_steps):\n",
    "        if (C_u + C_i) <= extinction_threshold:\n",
    "            break\n",
    "\n",
    "        if step == injection_step:\n",
    "            V = V_injection\n",
    "\n",
    "        a1 = params_rho * C_u * (1. - (C_u + C_i) / params_kappa)\n",
    "        a2 = params_psi * V * C_u\n",
    "        a3 = params_alpha * C_i\n",
    "        a4 = params_delta * V\n",
    "\n",
    "        a2_w2 = np.sqrt(a2) * sqrt_dt * rand_array[step, 1]\n",
    "        a3_w3 = np.sqrt(a3) * sqrt_dt * rand_array[step, 2]\n",
    "\n",
    "        dC_u = (a1 - a2) * dt + np.sqrt(np.maximum(a1, 0)) * sqrt_dt * rand_array[step, 0] - a2_w2\n",
    "        dC_i = (a2 - a3) * dt + a2_w2 - a3_w3\n",
    "        dV = (params_beta * a3 - a2 - a4) * dt + np.sqrt(params_beta) * a3_w3 - a2_w2 - np.sqrt(a4) * sqrt_dt * rand_array[step, 3]\n",
    "        \n",
    "        C_u = np.maximum(C_u + dC_u, 0)\n",
    "        C_i = np.maximum(C_i + dC_i, 0)\n",
    "        V = np.maximum(V + dV, 0)\n",
    "\n",
    "    final_time = step * dt\n",
    "\n",
    "    return np.array([C_u, C_i, V, final_time])\n",
    "\n",
    "def run_simulation(N_simulations, C_u0, V_injection, params, dt, T, extinction_threshold, seed = 42):\n",
    "\n",
    "    sqrt_dt = np.sqrt(dt)\n",
    "\n",
    "    # pre-calculate the random numbers\n",
    "    np.random.seed(seed)\n",
    "    random_numbers = np.random.normal(size=(N_simulations, int(T/dt), 4))\n",
    "\n",
    "    results = np.zeros((N_simulations, 4))\n",
    "    \n",
    "    start_run = time.time()\n",
    "    checkpoints = [N_simulations // 2]\n",
    "    for i in range(N_simulations):\n",
    "        results[i] = simulate_CLE(C_u0, V_injection, params['rho'], params['psi'], params['alpha'], params['delta'], params['kappa'], params['beta'], dt, sqrt_dt, random_numbers[i], extinction_threshold)\n",
    "\n",
    "        # Check if we've reached a checkpoint\n",
    "        if i+1 in checkpoints:\n",
    "            elapsed_time = time.time() - start_run\n",
    "            percent_complete = ((i+1) / N_simulations) * 100\n",
    "            estimated_total_time = (elapsed_time / (i+1)) * N_simulations\n",
    "            time_remaining = estimated_total_time - elapsed_time\n",
    "            print(f\"{percent_complete:.0f}% complete. Estimated time remaining: {time_remaining:.2f} seconds.\")\n",
    "\n",
    "    return results"
   ]
  },
  {
   "cell_type": "code",
   "execution_count": 17,
   "metadata": {},
   "outputs": [],
   "source": [
    "params_og = {'rho': 0.5379080098179797,\n",
    "    'kappa': 777.6924217880852,\n",
    "    'psi': 1.0142995960744846e-15,\n",
    "    'beta': 9999.6,\n",
    "    'alpha': 0.5308450453281762,\n",
    "    'delta': 13.937249271829442}"
   ]
  },
  {
   "cell_type": "code",
   "execution_count": 18,
   "metadata": {},
   "outputs": [],
   "source": [
    "N_simulations = 1000\n",
    "C_u0 = 400\n",
    "V_injection = 3e9\n",
    "dt = 0.001\n",
    "T = 100\n",
    "\n",
    "extinction_threshold = 1e-6"
   ]
  },
  {
   "cell_type": "code",
   "execution_count": 19,
   "metadata": {},
   "outputs": [
    {
     "name": "stdout",
     "output_type": "stream",
     "text": [
      "50% complete. Estimated time remaining: 0.93 seconds.\n"
     ]
    }
   ],
   "source": [
    "results = run_simulation(N_simulations, C_u0, V_injection, params_og, dt, T, extinction_threshold)"
   ]
  },
  {
   "cell_type": "markdown",
   "metadata": {},
   "source": [
    "# Sensitivity analysis for extinction schenarios, virus related"
   ]
  },
  {
   "cell_type": "code",
   "execution_count": 23,
   "metadata": {},
   "outputs": [],
   "source": [
    "def check_extinction_prob(results, extinction_threshold):\n",
    "    return np.sum(results[:,:-1].sum(axis=1) < extinction_threshold) / results.shape[0]\n",
    "\n",
    "def check_extinction_params(param, param_range, extinction_threshold, seed=42):\n",
    "    extinction_probs = np.zeros(len(param_range))\n",
    "    params = params_og.copy()\n",
    "    for i, p in enumerate(param_range):\n",
    "        params[param] = p\n",
    "        results = run_simulation(N_simulations, C_u0, V_injection, params, dt, T, extinction_threshold, seed)\n",
    "        extinction_probs[i] = check_extinction_prob(results, extinction_threshold)\n",
    "\n",
    "        print(f\"Parameter {param} = {p}: calculation complete.\")\n",
    "    return extinction_probs"
   ]
  },
  {
   "cell_type": "code",
   "execution_count": 24,
   "metadata": {},
   "outputs": [
    {
     "name": "stdout",
     "output_type": "stream",
     "text": [
      "50% complete. Estimated time remaining: 0.94 seconds.\n",
      "Parameter beta = 1e-08: calculation complete.\n",
      "50% complete. Estimated time remaining: 0.81 seconds.\n",
      "Parameter beta = 1e-07: calculation complete.\n",
      "50% complete. Estimated time remaining: 0.84 seconds.\n",
      "Parameter beta = 1e-06: calculation complete.\n",
      "50% complete. Estimated time remaining: 0.83 seconds.\n",
      "Parameter beta = 1e-05: calculation complete.\n",
      "50% complete. Estimated time remaining: 0.82 seconds.\n",
      "Parameter beta = 0.0001: calculation complete.\n",
      "50% complete. Estimated time remaining: 0.81 seconds.\n",
      "Parameter beta = 0.001: calculation complete.\n",
      "50% complete. Estimated time remaining: 0.80 seconds.\n",
      "Parameter beta = 0.01: calculation complete.\n",
      "50% complete. Estimated time remaining: 0.81 seconds.\n",
      "Parameter beta = 0.1: calculation complete.\n",
      "50% complete. Estimated time remaining: 0.84 seconds.\n",
      "Parameter beta = 1.0: calculation complete.\n",
      "50% complete. Estimated time remaining: 0.83 seconds.\n",
      "Parameter beta = 10.0: calculation complete.\n",
      "50% complete. Estimated time remaining: 0.82 seconds.\n",
      "Parameter beta = 100.0: calculation complete.\n",
      "50% complete. Estimated time remaining: 0.81 seconds.\n",
      "Parameter beta = 1000.0: calculation complete.\n",
      "50% complete. Estimated time remaining: 0.86 seconds.\n",
      "Parameter beta = 10000.0: calculation complete.\n",
      "50% complete. Estimated time remaining: 0.80 seconds.\n",
      "Parameter beta = 100000.0: calculation complete.\n",
      "50% complete. Estimated time remaining: 0.83 seconds.\n",
      "Parameter beta = 1000000.0: calculation complete.\n",
      "50% complete. Estimated time remaining: 0.81 seconds.\n",
      "Parameter beta = 10000000.0: calculation complete.\n",
      "50% complete. Estimated time remaining: 0.82 seconds.\n",
      "Parameter beta = 100000000.0: calculation complete.\n"
     ]
    },
    {
     "data": {
      "text/plain": [
       "array([0., 0., 0., 0., 0., 0., 0., 0., 0., 0., 0., 0., 0., 0., 0., 0., 0.])"
      ]
     },
     "execution_count": 24,
     "metadata": {},
     "output_type": "execute_result"
    }
   ],
   "source": [
    "# vary infection rate, phi, from 1e-8 to 1e8\n",
    "beta_values = np.logspace(-8, 8, 17)\n",
    "extinction_probs_beta = check_extinction_params('beta', beta_values, extinction_threshold)\n",
    "extinction_probs_beta"
   ]
  },
  {
   "cell_type": "code",
   "execution_count": null,
   "metadata": {},
   "outputs": [],
   "source": []
  }
 ],
 "metadata": {
  "kernelspec": {
   "display_name": "Python 3",
   "language": "python",
   "name": "python3"
  },
  "language_info": {
   "codemirror_mode": {
    "name": "ipython",
    "version": 3
   },
   "file_extension": ".py",
   "mimetype": "text/x-python",
   "name": "python",
   "nbconvert_exporter": "python",
   "pygments_lexer": "ipython3",
   "version": "3.12.3"
  }
 },
 "nbformat": 4,
 "nbformat_minor": 2
}
